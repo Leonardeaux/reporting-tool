{
 "cells": [
  {
   "cell_type": "code",
   "execution_count": 2,
   "metadata": {
    "collapsed": true,
    "ExecuteTime": {
     "start_time": "2023-04-28T09:42:07.518115Z",
     "end_time": "2023-04-28T09:42:08.338710Z"
    }
   },
   "outputs": [],
   "source": [
    "import matplotlib.pyplot as plt\n",
    "import pandas as pd\n",
    "import numpy as np"
   ]
  },
  {
   "cell_type": "code",
   "execution_count": 3,
   "outputs": [],
   "source": [
    "FILENAME = './data/usagers-2021.csv'\n",
    "ENCODING = 'utf-8'\n",
    "SEPARATOR = ';'"
   ],
   "metadata": {
    "collapsed": false,
    "ExecuteTime": {
     "start_time": "2023-04-28T09:42:08.340225Z",
     "end_time": "2023-04-28T09:42:08.353192Z"
    }
   }
  },
  {
   "cell_type": "markdown",
   "source": [
    "Specifics changes"
   ],
   "metadata": {
    "collapsed": false
   }
  },
  {
   "cell_type": "code",
   "execution_count": 4,
   "outputs": [],
   "source": [
    "DATA_TYPE_CATEGORICAL = \"CAT\"\n",
    "DATA_TYPE_TEXT = \"TXT\"\n",
    "DATA_TYPE_NUMERICAL = \"NUM\"\n",
    "DATA_TYPE_INDEX = \"INDEX\"\n",
    "MAX_CATEGORICAL_VALUES = 32"
   ],
   "metadata": {
    "collapsed": false,
    "ExecuteTime": {
     "start_time": "2023-04-28T09:42:08.354793Z",
     "end_time": "2023-04-28T09:42:08.369794Z"
    }
   }
  },
  {
   "cell_type": "code",
   "execution_count": 5,
   "outputs": [],
   "source": [
    "df = pd.read_csv(FILENAME, sep=SEPARATOR, encoding=ENCODING)"
   ],
   "metadata": {
    "collapsed": false,
    "ExecuteTime": {
     "start_time": "2023-04-28T09:42:08.369794Z",
     "end_time": "2023-04-28T09:42:08.481776Z"
    }
   }
  },
  {
   "cell_type": "code",
   "execution_count": 6,
   "outputs": [
    {
     "data": {
      "text/plain": "        Num_Acc id_vehicule num_veh  place  catu  grav  sexe  an_nais  trajet   \n0  202100000001     201 764     B01      1     1     3     1   2000.0       1  \\\n1  202100000001     201 765     A01      1     1     1     1   1978.0       1   \n2  202100000002     201 762     A01      1     1     4     1   1983.0       0   \n3  202100000002     201 763     B01      1     1     3     1   1993.0       0   \n4  202100000003     201 761     A01      1     1     1     1   1995.0       1   \n\n   secu1  secu2  secu3  locp actp  etatp  \n0      0      9     -1     0    0     -1  \n1      1     -1     -1     0    0     -1  \n2      1     -1     -1     0    0     -1  \n3      1     -1     -1     0    0     -1  \n4      1      0     -1     0    0     -1  ",
      "text/html": "<div>\n<style scoped>\n    .dataframe tbody tr th:only-of-type {\n        vertical-align: middle;\n    }\n\n    .dataframe tbody tr th {\n        vertical-align: top;\n    }\n\n    .dataframe thead th {\n        text-align: right;\n    }\n</style>\n<table border=\"1\" class=\"dataframe\">\n  <thead>\n    <tr style=\"text-align: right;\">\n      <th></th>\n      <th>Num_Acc</th>\n      <th>id_vehicule</th>\n      <th>num_veh</th>\n      <th>place</th>\n      <th>catu</th>\n      <th>grav</th>\n      <th>sexe</th>\n      <th>an_nais</th>\n      <th>trajet</th>\n      <th>secu1</th>\n      <th>secu2</th>\n      <th>secu3</th>\n      <th>locp</th>\n      <th>actp</th>\n      <th>etatp</th>\n    </tr>\n  </thead>\n  <tbody>\n    <tr>\n      <th>0</th>\n      <td>202100000001</td>\n      <td>201 764</td>\n      <td>B01</td>\n      <td>1</td>\n      <td>1</td>\n      <td>3</td>\n      <td>1</td>\n      <td>2000.0</td>\n      <td>1</td>\n      <td>0</td>\n      <td>9</td>\n      <td>-1</td>\n      <td>0</td>\n      <td>0</td>\n      <td>-1</td>\n    </tr>\n    <tr>\n      <th>1</th>\n      <td>202100000001</td>\n      <td>201 765</td>\n      <td>A01</td>\n      <td>1</td>\n      <td>1</td>\n      <td>1</td>\n      <td>1</td>\n      <td>1978.0</td>\n      <td>1</td>\n      <td>1</td>\n      <td>-1</td>\n      <td>-1</td>\n      <td>0</td>\n      <td>0</td>\n      <td>-1</td>\n    </tr>\n    <tr>\n      <th>2</th>\n      <td>202100000002</td>\n      <td>201 762</td>\n      <td>A01</td>\n      <td>1</td>\n      <td>1</td>\n      <td>4</td>\n      <td>1</td>\n      <td>1983.0</td>\n      <td>0</td>\n      <td>1</td>\n      <td>-1</td>\n      <td>-1</td>\n      <td>0</td>\n      <td>0</td>\n      <td>-1</td>\n    </tr>\n    <tr>\n      <th>3</th>\n      <td>202100000002</td>\n      <td>201 763</td>\n      <td>B01</td>\n      <td>1</td>\n      <td>1</td>\n      <td>3</td>\n      <td>1</td>\n      <td>1993.0</td>\n      <td>0</td>\n      <td>1</td>\n      <td>-1</td>\n      <td>-1</td>\n      <td>0</td>\n      <td>0</td>\n      <td>-1</td>\n    </tr>\n    <tr>\n      <th>4</th>\n      <td>202100000003</td>\n      <td>201 761</td>\n      <td>A01</td>\n      <td>1</td>\n      <td>1</td>\n      <td>1</td>\n      <td>1</td>\n      <td>1995.0</td>\n      <td>1</td>\n      <td>1</td>\n      <td>0</td>\n      <td>-1</td>\n      <td>0</td>\n      <td>0</td>\n      <td>-1</td>\n    </tr>\n  </tbody>\n</table>\n</div>"
     },
     "execution_count": 6,
     "metadata": {},
     "output_type": "execute_result"
    }
   ],
   "source": [
    "df.head()"
   ],
   "metadata": {
    "collapsed": false,
    "ExecuteTime": {
     "start_time": "2023-04-28T09:42:08.477778Z",
     "end_time": "2023-04-28T09:42:08.517863Z"
    }
   }
  },
  {
   "cell_type": "code",
   "execution_count": 7,
   "outputs": [
    {
     "data": {
      "text/plain": "Num_Acc          int64\nid_vehicule     object\nnum_veh         object\nplace            int64\ncatu             int64\ngrav             int64\nsexe             int64\nan_nais        float64\ntrajet           int64\nsecu1            int64\nsecu2            int64\nsecu3            int64\nlocp             int64\nactp            object\netatp            int64\ndtype: object"
     },
     "execution_count": 7,
     "metadata": {},
     "output_type": "execute_result"
    }
   ],
   "source": [
    "df.dtypes"
   ],
   "metadata": {
    "collapsed": false,
    "ExecuteTime": {
     "start_time": "2023-04-28T09:42:08.507888Z",
     "end_time": "2023-04-28T09:42:08.550615Z"
    }
   }
  },
  {
   "cell_type": "code",
   "execution_count": 8,
   "outputs": [],
   "source": [
    "df['actp'].replace('A', 10, inplace=True)\n",
    "df['actp'].replace('B', 11, inplace=True)\n",
    "df['actp'] = pd.to_numeric(df['actp'])"
   ],
   "metadata": {
    "collapsed": false,
    "ExecuteTime": {
     "start_time": "2023-04-28T09:42:08.524184Z",
     "end_time": "2023-04-28T09:42:08.619835Z"
    }
   }
  },
  {
   "cell_type": "code",
   "execution_count": 9,
   "outputs": [
    {
     "data": {
      "text/plain": "Num_Acc          int64\nid_vehicule     object\nnum_veh         object\nplace            int64\ncatu             int64\ngrav             int64\nsexe             int64\nan_nais        float64\ntrajet           int64\nsecu1            int64\nsecu2            int64\nsecu3            int64\nlocp             int64\nactp             int64\netatp            int64\ndtype: object"
     },
     "execution_count": 9,
     "metadata": {},
     "output_type": "execute_result"
    }
   ],
   "source": [
    "df.dtypes"
   ],
   "metadata": {
    "collapsed": false,
    "ExecuteTime": {
     "start_time": "2023-04-28T09:42:08.583754Z",
     "end_time": "2023-04-28T09:42:08.620360Z"
    }
   }
  },
  {
   "cell_type": "code",
   "execution_count": 15,
   "outputs": [
    {
     "data": {
      "text/plain": "-0.2808310054486096"
     },
     "execution_count": 15,
     "metadata": {},
     "output_type": "execute_result"
    }
   ],
   "source": [
    "df['an_nais'].kurtosis()"
   ],
   "metadata": {
    "collapsed": false,
    "ExecuteTime": {
     "start_time": "2023-04-28T09:49:44.163388Z",
     "end_time": "2023-04-28T09:49:44.174541Z"
    }
   }
  },
  {
   "cell_type": "code",
   "execution_count": 10,
   "outputs": [],
   "source": [],
   "metadata": {
    "collapsed": false,
    "ExecuteTime": {
     "start_time": "2023-04-28T09:42:08.616167Z",
     "end_time": "2023-04-28T09:42:08.657838Z"
    }
   }
  }
 ],
 "metadata": {
  "kernelspec": {
   "display_name": "Python 3",
   "language": "python",
   "name": "python3"
  },
  "language_info": {
   "codemirror_mode": {
    "name": "ipython",
    "version": 2
   },
   "file_extension": ".py",
   "mimetype": "text/x-python",
   "name": "python",
   "nbconvert_exporter": "python",
   "pygments_lexer": "ipython2",
   "version": "2.7.6"
  }
 },
 "nbformat": 4,
 "nbformat_minor": 0
}
